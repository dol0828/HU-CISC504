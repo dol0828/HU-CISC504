{
 "cells": [
  {
   "cell_type": "markdown",
   "metadata": {},
   "source": [
    "# Control Structures 2 - Loops "
   ]
  },
  {
   "cell_type": "code",
   "execution_count": 2,
   "metadata": {},
   "outputs": [
    {
     "name": "stdout",
     "output_type": "stream",
     "text": [
      "0\n",
      "3\n",
      "6\n",
      "9\n",
      "12\n",
      "15\n",
      "18\n"
     ]
    }
   ],
   "source": [
    "for i in range(20):\n",
    "    if i%3 == 0:\n",
    "        print(i)"
   ]
  },
  {
   "cell_type": "code",
   "execution_count": 3,
   "metadata": {},
   "outputs": [
    {
     "name": "stdout",
     "output_type": "stream",
     "text": [
      "triangle = 1\n",
      "cricle = 2\n",
      "rectangle = 3\n",
      "square = 4\n",
      "trapezoid = 5\n"
     ]
    }
   ],
   "source": [
    "dict_1 = {'triangle':1,\n",
    "          'cricle':2,\n",
    "          'rectangle':3,\n",
    "          'square':4,\n",
    "          'trapezoid':5}\n",
    "for shape, value in dict_1.items():\n",
    "    print(\"{} = {}\".format(shape, value))"
   ]
  },
  {
   "cell_type": "code",
   "execution_count": 1,
   "metadata": {},
   "outputs": [],
   "source": [
    "while 10>11: print('This goes on forever...')"
   ]
  },
  {
   "cell_type": "code",
   "execution_count": 2,
   "metadata": {},
   "outputs": [
    {
     "name": "stdout",
     "output_type": "stream",
     "text": [
      "Hello\n",
      "Hello\n",
      "Hello\n",
      "Hello\n"
     ]
    }
   ],
   "source": [
    "### solicit input\n",
    "var = 1\n",
    "while var < 5:\n",
    "    print(\"Hello\")\n",
    "    # Increment var value by 1\n",
    "    var = var+1"
   ]
  },
  {
   "cell_type": "code",
   "execution_count": 3,
   "metadata": {},
   "outputs": [
    {
     "name": "stdout",
     "output_type": "stream",
     "text": [
      "Enter Number:  4\n",
      "Hello\n"
     ]
    }
   ],
   "source": [
    "var1 = int(input('Enter Number:  '))\n",
    "while var1 < 5:\n",
    "    print(\"Hello\")\n",
    "    var1 = var1 + 1"
   ]
  },
  {
   "cell_type": "code",
   "execution_count": 12,
   "metadata": {},
   "outputs": [
    {
     "name": "stdout",
     "output_type": "stream",
     "text": [
      "Enter Number of iterations: 10\n",
      "Hello\n",
      "Hello\n",
      "Hello\n"
     ]
    }
   ],
   "source": [
    "var1 = int(input('Enter Number of iterations: '))\n",
    "for var1 in range(0,3):\n",
    "    print(\"Hello\")"
   ]
  },
  {
   "cell_type": "code",
   "execution_count": 4,
   "metadata": {
    "scrolled": true
   },
   "outputs": [
    {
     "name": "stdout",
     "output_type": "stream",
     "text": [
      "Enter Number: 10\n",
      "10 is not divisible by 3\n",
      "11 is not divisible by 3\n",
      "12 is divisible by 3\n",
      "13 is not divisible by 3\n",
      "14 is not divisible by 3\n",
      "15 is divisible by 3\n",
      "16 is not divisible by 3\n",
      "17 is not divisible by 3\n",
      "18 is divisible by 3\n",
      "19 is not divisible by 3\n"
     ]
    }
   ],
   "source": [
    "var2 = int(input('Enter Number: '))\n",
    "while var2 < 20:\n",
    "    if var2 % 3 == 0:\n",
    "        print(str(var2)+ ' is divisible by 3')\n",
    "    else:\n",
    "        print(str(var2)+ ' is not divisible by 3')\n",
    "    var2 = var2 + 1"
   ]
  },
  {
   "cell_type": "code",
   "execution_count": 6,
   "metadata": {},
   "outputs": [
    {
     "name": "stdout",
     "output_type": "stream",
     "text": [
      "Enter number: 5\n",
      "5 is not divisible by 3\n",
      "6 is divisible by 3\n",
      "7 is not divisible by 3\n",
      "8 is not divisible by 3\n",
      "9 is divisible by 3\n",
      "10 is not divisible by 3\n",
      "11 is not divisible by 3\n",
      "12 is divisible by 3\n",
      "13 is not divisible by 3\n",
      "14 is not divisible by 3\n",
      "15 is divisible by 3\n",
      "16 is not divisible by 3\n",
      "17 is not divisible by 3\n"
     ]
    }
   ],
   "source": [
    "var2 = int(input('Enter number: '))\n",
    "for var in range(0,13):  \n",
    "    if var2 % 3 == 0:  \n",
    "        print(str(var2)+ ' is divisible by 3')\n",
    "    else:\n",
    "        print(str(var2)+ ' is not divisible by 3')\n",
    "    var2= var2 + 1"
   ]
  },
  {
   "cell_type": "code",
   "execution_count": null,
   "metadata": {},
   "outputs": [],
   "source": []
  },
  {
   "cell_type": "code",
   "execution_count": 9,
   "metadata": {},
   "outputs": [
    {
     "name": "stdout",
     "output_type": "stream",
     "text": [
      "1.0\n",
      "0.5\n",
      "2.0\n",
      "1.0\n",
      "2.0\n",
      "1.0\n",
      "4.0\n",
      "2.0\n"
     ]
    }
   ],
   "source": [
    "for x in range(1, 3):\n",
    "    for y in range(1, 3):\n",
    "        for z in range(1, 3):\n",
    "            print(x*y/z)"
   ]
  },
  {
   "cell_type": "code",
   "execution_count": 10,
   "metadata": {},
   "outputs": [
    {
     "name": "stdout",
     "output_type": "stream",
     "text": [
      "Porsche Yellow sport\n",
      "Porsche Yellow sedan\n",
      "Porsche Yellow SUV\n",
      "Porsche Black sport\n",
      "Porsche Black sedan\n",
      "Porsche Black SUV\n",
      "Porsche Blue sport\n",
      "Porsche Blue sedan\n",
      "Porsche Blue SUV\n",
      "Porsche Silver sport\n",
      "Porsche Silver sedan\n",
      "Porsche Silver SUV\n",
      "BMW Yellow sport\n",
      "BMW Yellow sedan\n",
      "BMW Yellow SUV\n",
      "BMW Black sport\n",
      "BMW Black sedan\n",
      "BMW Black SUV\n",
      "BMW Blue sport\n",
      "BMW Blue sedan\n",
      "BMW Blue SUV\n",
      "BMW Silver sport\n",
      "BMW Silver sedan\n",
      "BMW Silver SUV\n",
      "Mercedes Yellow sport\n",
      "Mercedes Yellow sedan\n",
      "Mercedes Yellow SUV\n",
      "Mercedes Black sport\n",
      "Mercedes Black sedan\n",
      "Mercedes Black SUV\n",
      "Mercedes Blue sport\n",
      "Mercedes Blue sedan\n",
      "Mercedes Blue SUV\n",
      "Mercedes Silver sport\n",
      "Mercedes Silver sedan\n",
      "Mercedes Silver SUV\n",
      "Jaguar Yellow sport\n",
      "Jaguar Yellow sedan\n",
      "Jaguar Yellow SUV\n",
      "Jaguar Black sport\n",
      "Jaguar Black sedan\n",
      "Jaguar Black SUV\n",
      "Jaguar Blue sport\n",
      "Jaguar Blue sedan\n",
      "Jaguar Blue SUV\n",
      "Jaguar Silver sport\n",
      "Jaguar Silver sedan\n",
      "Jaguar Silver SUV\n"
     ]
    }
   ],
   "source": [
    "Cars = ['Porsche', 'BMW', 'Mercedes', 'Jaguar']\n",
    "Colors = ['Yellow', 'Black', 'Blue', 'Silver']\n",
    "Classes = ['sport', 'sedan', 'SUV']\n",
    "\n",
    "for Car in Cars:\n",
    "    for Color in Colors:\n",
    "        for Class in Classes:\n",
    "            print(Car + ' ' + Color + ' ' + Class)"
   ]
  },
  {
   "cell_type": "code",
   "execution_count": null,
   "metadata": {},
   "outputs": [],
   "source": [
    "x = 1\n",
    "y = 5\n",
    "while x < 10:\n",
    "    while y < 20:\n",
    "        print(x, ',' , y)\n",
    "        x = x * 2\n",
    "        y = y * 2"
   ]
  },
  {
   "cell_type": "code",
   "execution_count": 1,
   "metadata": {},
   "outputs": [
    {
     "name": "stdout",
     "output_type": "stream",
     "text": [
      "C\n",
      "I\n",
      "S\n",
      "C\n",
      "Loop Break\n"
     ]
    }
   ],
   "source": [
    "for value in 'CISC504':\n",
    "    if value == '5':\n",
    "        break\n",
    "    print(value)\n",
    "\n",
    "print('Loop Break')\n"
   ]
  },
  {
   "cell_type": "code",
   "execution_count": 2,
   "metadata": {},
   "outputs": [
    {
     "name": "stdout",
     "output_type": "stream",
     "text": [
      "P\n",
      "T\n",
      "H\n",
      "O\n",
      "N\n",
      "Loop complete\n"
     ]
    }
   ],
   "source": [
    "for value in 'PYTHON':\n",
    "    if value == 'Y':\n",
    "        continue\n",
    "    print(value)\n",
    "\n",
    "print(\"Loop complete\")"
   ]
  },
  {
   "cell_type": "code",
   "execution_count": 3,
   "metadata": {},
   "outputs": [
    {
     "name": "stdout",
     "output_type": "stream",
     "text": [
      "0 is divisible by 3\n",
      "1 is not divisible by 3\n",
      "2 is not divisible by 3\n",
      "3 is divisible by 3\n",
      "4 is not divisible by 3\n",
      "5 is not divisible by 3\n",
      "6 is divisible by 3\n",
      "7 is not divisible by 3\n",
      "8 is not divisible by 3\n",
      "9 is divisible by 3\n",
      "10 is not divisible by 3\n",
      "11 is not divisible by 3\n",
      "12 is divisible by 3\n",
      "13 is not divisible by 3\n",
      "14 is not divisible by 3\n",
      "15 is divisible by 3\n",
      "16 is not divisible by 3\n",
      "17 is not divisible by 3\n",
      "18 is divisible by 3\n",
      "19 is not divisible by 3\n",
      "20 is not divisible by 3\n"
     ]
    }
   ],
   "source": [
    "## An example of how to use the break statement to stop large or inifinite loops:\n",
    "\n",
    "# Condition of the while loop\n",
    "for var2 in range(999999):  \n",
    "    # condition if number is divisible by 3 then the remainder will be zero\n",
    "    if var2 % 3 == 0:\n",
    "        print(str(var2)+ ' is divisible by 3')\n",
    "    else:\n",
    "        print(str(var2)+ ' is not divisible by 3')\n",
    "        if var2==20:\n",
    "            break\n",
    "\n",
    "    var2 = var2 + 1"
   ]
  },
  {
   "cell_type": "markdown",
   "metadata": {},
   "source": [
    "# Lesson 9 Assignment"
   ]
  },
  {
   "cell_type": "code",
   "execution_count": null,
   "metadata": {},
   "outputs": [],
   "source": [
    "### Exercise 1: Write an algorithm which incoporates a loop which iterates \n",
    "### over List_1, posted below, and determines if a number is odd or even. \n",
    "### If an number is even it prints out str(number) + 'This number is even' otherwise \n",
    "### it prints out 'this number is odd'.\n",
    "### List_1 = [1, 4, 5, 6, 3, 2, 7 ,8 , 66, 54, 78, 97, 54, 34, 67, 65, 56, 45, 54]\n",
    "### Develop a modified version of the above described loop which stops at the value 66.\n",
    "### Develop a modified version of the same loop which skips over the value 8 and stops when it reaches the value 65."
   ]
  },
  {
   "cell_type": "code",
   "execution_count": 17,
   "metadata": {},
   "outputs": [
    {
     "name": "stdout",
     "output_type": "stream",
     "text": [
      "1 This number is odd\n",
      "4 This number is even\n",
      "5 This number is odd\n",
      "6 This number is even\n",
      "3 This number is odd\n",
      "2 This number is even\n",
      "7 This number is odd\n",
      "8 This number is even\n",
      "66 This number is even\n",
      "54 This number is even\n",
      "78 This number is even\n",
      "97 This number is odd\n",
      "54 This number is even\n",
      "34 This number is even\n",
      "67 This number is odd\n",
      "65 This number is odd\n",
      "56 This number is even\n",
      "45 This number is odd\n",
      "54 This number is even\n"
     ]
    }
   ],
   "source": [
    "# version1\n",
    "List_1=[1, 4, 5, 6, 3, 2, 7 ,8 , 66, 54, 78, 97, 54, 34, 67, 65, 56, 45, 54]\n",
    "for var1 in List_1:  \n",
    "    if var1 % 2 == 0:\n",
    "        print(str(var1)+ ' This number is even')\n",
    "    else:\n",
    "        print(str(var1)+ ' This number is odd')"
   ]
  },
  {
   "cell_type": "code",
   "execution_count": 23,
   "metadata": {},
   "outputs": [
    {
     "name": "stdout",
     "output_type": "stream",
     "text": [
      "1 This number is odd\n",
      "4 This number is even\n",
      "5 This number is odd\n",
      "6 This number is even\n",
      "3 This number is odd\n",
      "2 This number is even\n",
      "7 This number is odd\n",
      "8 This number is even\n"
     ]
    }
   ],
   "source": [
    "# version2\n",
    "List_1=[1, 4, 5, 6, 3, 2, 7 ,8 , 66, 54, 78, 97, 54, 34, 67, 65, 56, 45, 54]\n",
    "for var1 in List_1:  \n",
    "    if var1==66:\n",
    "        break\n",
    "    if var1 % 2 == 0:\n",
    "        print(str(var1)+ ' This number is even')\n",
    "    else:\n",
    "        print(str(var1)+ ' This number is odd')\n",
    "   "
   ]
  },
  {
   "cell_type": "code",
   "execution_count": 25,
   "metadata": {},
   "outputs": [
    {
     "name": "stdout",
     "output_type": "stream",
     "text": [
      "1 This number is odd\n",
      "4 This number is even\n",
      "5 This number is odd\n",
      "6 This number is even\n",
      "3 This number is odd\n",
      "2 This number is even\n",
      "7 This number is odd\n",
      "66 This number is even\n",
      "54 This number is even\n",
      "78 This number is even\n",
      "97 This number is odd\n",
      "54 This number is even\n",
      "34 This number is even\n",
      "67 This number is odd\n"
     ]
    }
   ],
   "source": [
    "# version3\n",
    "List_1=[1, 4, 5, 6, 3, 2, 7 ,8 , 66, 54, 78, 97, 54, 34, 67, 65, 56, 45, 54]\n",
    "for var1 in List_1:  \n",
    "    if var1==65:\n",
    "        break\n",
    "    if var1== 8:\n",
    "        continue\n",
    "    if var1 % 2 == 0:\n",
    "        print(str(var1)+ ' This number is even')\n",
    "    else:\n",
    "        print(str(var1)+ ' This number is odd')"
   ]
  },
  {
   "cell_type": "code",
   "execution_count": null,
   "metadata": {},
   "outputs": [],
   "source": []
  },
  {
   "cell_type": "code",
   "execution_count": null,
   "metadata": {},
   "outputs": [],
   "source": [
    "### Exercise 2: Write a program which uses a while loop then transform it so that it uses the for loop to produce\n",
    "###             the same output."
   ]
  },
  {
   "cell_type": "code",
   "execution_count": 3,
   "metadata": {},
   "outputs": [
    {
     "name": "stdout",
     "output_type": "stream",
     "text": [
      "0\n",
      "3\n",
      "6\n",
      "9\n"
     ]
    }
   ],
   "source": [
    "# original while loop\n",
    "i = 0\n",
    "while i < 10:  \n",
    "    if i % 3 == 0:  \n",
    "        print(i)\n",
    "    i = i + 1"
   ]
  },
  {
   "cell_type": "code",
   "execution_count": 1,
   "metadata": {},
   "outputs": [
    {
     "name": "stdout",
     "output_type": "stream",
     "text": [
      "0\n",
      "3\n",
      "6\n",
      "9\n"
     ]
    }
   ],
   "source": [
    "# modifed for loop\n",
    "for i in range(10):\n",
    "    if i % 3 == 0:\n",
    "        print (i)"
   ]
  },
  {
   "cell_type": "code",
   "execution_count": null,
   "metadata": {},
   "outputs": [],
   "source": []
  },
  {
   "cell_type": "code",
   "execution_count": null,
   "metadata": {},
   "outputs": [],
   "source": []
  },
  {
   "cell_type": "code",
   "execution_count": null,
   "metadata": {},
   "outputs": [],
   "source": []
  }
 ],
 "metadata": {
  "kernelspec": {
   "display_name": "Python 3",
   "language": "python",
   "name": "python3"
  },
  "language_info": {
   "codemirror_mode": {
    "name": "ipython",
    "version": 3
   },
   "file_extension": ".py",
   "mimetype": "text/x-python",
   "name": "python",
   "nbconvert_exporter": "python",
   "pygments_lexer": "ipython3",
   "version": "3.7.0"
  }
 },
 "nbformat": 4,
 "nbformat_minor": 2
}
