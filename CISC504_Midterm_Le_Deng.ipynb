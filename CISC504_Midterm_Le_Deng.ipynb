{
 "cells": [
  {
   "cell_type": "markdown",
   "metadata": {},
   "source": [
    "## CISC 504 Midterm"
   ]
  },
  {
   "cell_type": "markdown",
   "metadata": {},
   "source": [
    "# Le Deng"
   ]
  },
  {
   "cell_type": "code",
   "execution_count": null,
   "metadata": {},
   "outputs": [],
   "source": [
    "## Question 1 "
   ]
  },
  {
   "cell_type": "code",
   "execution_count": 2,
   "metadata": {},
   "outputs": [
    {
     "name": "stdout",
     "output_type": "stream",
     "text": [
      "The item in vendor machine costs in dollars:  3.99\n",
      "The Change: \n",
      "   The dollar bills count:  1.0\n",
      "   The quarters count:  0.0\n",
      "   The dimes count:  0.0\n",
      "   The nickels count:  1.0\n"
     ]
    }
   ],
   "source": [
    "cost = float(input('The item in vendor machine costs in dollars:  '))\n",
    "dollars = (500 - cost*100)//100\n",
    "quarters = (500 - cost*100 - dollars*100)//25\n",
    "dimes = (500 - cost*100 - dollars*100 - quarters*25)//10\n",
    "nickels = 500 - cost*100 - dollars*100 - quarters*25 - dimes*10\n",
    "\n",
    "if cost > 5: print ('Insert More Money')\n",
    "else: \n",
    "    print (\"The Change: \")\n",
    "    print (\"   The dollar bills count: \", dollars)\n",
    "    print (\"   The quarters count: \", quarters)\n",
    "    print (\"   The dimes count: \", dimes)\n",
    "    print (\"   The nickels count: \", nickels)"
   ]
  },
  {
   "cell_type": "code",
   "execution_count": null,
   "metadata": {},
   "outputs": [],
   "source": []
  },
  {
   "cell_type": "code",
   "execution_count": null,
   "metadata": {},
   "outputs": [],
   "source": [
    "## Question 2"
   ]
  },
  {
   "cell_type": "code",
   "execution_count": 2,
   "metadata": {},
   "outputs": [
    {
     "name": "stdout",
     "output_type": "stream",
     "text": [
      "Input message you would like transformed:\n",
      "i don't like you\n",
      "I-DON'T-LIKE-YOU!\n"
     ]
    }
   ],
   "source": [
    "from string import ascii_uppercase as Characters\n",
    "\n",
    "def shift(message, offset):\n",
    "    trans = str.maketrans(Characters, Characters[offset:] + Characters[:offset])\n",
    "    trans = str.maketrans(' ', '-')\n",
    "    return message.upper().translate(trans)\n",
    "\n",
    "print(shift(input(\"Input message you would like transformed:\\n\"), +32) + '!')"
   ]
  },
  {
   "cell_type": "code",
   "execution_count": null,
   "metadata": {},
   "outputs": [],
   "source": []
  },
  {
   "cell_type": "code",
   "execution_count": null,
   "metadata": {},
   "outputs": [],
   "source": []
  },
  {
   "cell_type": "code",
   "execution_count": null,
   "metadata": {},
   "outputs": [],
   "source": [
    "## Question 3"
   ]
  },
  {
   "cell_type": "code",
   "execution_count": null,
   "metadata": {},
   "outputs": [
    {
     "name": "stdout",
     "output_type": "stream",
     "text": [
      "The original \n"
     ]
    }
   ],
   "source": [
    "print('The original ')\n",
    "first_q = input('Buy a foreign car? Yes or No:  ')\n",
    "second_q = input('Buy a lexury car? Yes or No:  ')\n",
    "third_q = input('Buy a FORD-made car? Yes or No: ')\n",
    "print('THE FINAL DECISION: ')\n",
    "if first_q == 'Yes' and second_q == 'Yes': print('BUY A FOREIGN-MADE LEXURY CAR')\n",
    "elif first_q == 'Yes' and second_q == 'No': print('BUY A FOREIGN-MADE NON-LEXURY CAR')\n",
    "elif first_q == 'No' and third_q == 'Yes': print('BUY A FORD-MADE CAR')\n",
    "elif first_q == 'No' and third_q == 'No': print('BUY A NON FORD DOMESTIC CAR')"
   ]
  },
  {
   "cell_type": "code",
   "execution_count": null,
   "metadata": {},
   "outputs": [],
   "source": []
  },
  {
   "cell_type": "code",
   "execution_count": null,
   "metadata": {},
   "outputs": [],
   "source": []
  },
  {
   "cell_type": "code",
   "execution_count": null,
   "metadata": {},
   "outputs": [],
   "source": []
  },
  {
   "cell_type": "code",
   "execution_count": null,
   "metadata": {},
   "outputs": [],
   "source": []
  },
  {
   "cell_type": "code",
   "execution_count": null,
   "metadata": {},
   "outputs": [],
   "source": []
  }
 ],
 "metadata": {
  "kernelspec": {
   "display_name": "Python 3",
   "language": "python",
   "name": "python3"
  },
  "language_info": {
   "codemirror_mode": {
    "name": "ipython",
    "version": 3
   },
   "file_extension": ".py",
   "mimetype": "text/x-python",
   "name": "python",
   "nbconvert_exporter": "python",
   "pygments_lexer": "ipython3",
   "version": "3.7.0"
  }
 },
 "nbformat": 4,
 "nbformat_minor": 2
}
