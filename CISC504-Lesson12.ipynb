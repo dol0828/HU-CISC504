{
 "cells": [
  {
   "cell_type": "markdown",
   "metadata": {},
   "source": [
    "## Home Work - Data Visualization with Python"
   ]
  },
  {
   "cell_type": "code",
   "execution_count": 1,
   "metadata": {},
   "outputs": [],
   "source": [
    "## 1. Download the dataset"
   ]
  },
  {
   "cell_type": "code",
   "execution_count": 214,
   "metadata": {},
   "outputs": [],
   "source": [
    "import numpy as np\n",
    "import pandas as pd\n",
    "import matplotlib.pyplot as plt\n",
    "import seaborn as sns"
   ]
  },
  {
   "cell_type": "code",
   "execution_count": null,
   "metadata": {},
   "outputs": [],
   "source": []
  },
  {
   "cell_type": "code",
   "execution_count": null,
   "metadata": {},
   "outputs": [],
   "source": []
  },
  {
   "cell_type": "code",
   "execution_count": 9,
   "metadata": {},
   "outputs": [],
   "source": [
    "data12 = pd.read_csv('Certificate_of_Need_Applications__Beginning_1974.csv', delimiter=',', error_bad_lines=False, index_col=False, dtype='unicode')"
   ]
  },
  {
   "cell_type": "code",
   "execution_count": 11,
   "metadata": {},
   "outputs": [
    {
     "data": {
      "text/plain": [
       "(24407, 87)"
      ]
     },
     "execution_count": 11,
     "metadata": {},
     "output_type": "execute_result"
    }
   ],
   "source": [
    "data12.shape"
   ]
  },
  {
   "cell_type": "code",
   "execution_count": null,
   "metadata": {},
   "outputs": [],
   "source": []
  },
  {
   "cell_type": "code",
   "execution_count": 5,
   "metadata": {},
   "outputs": [],
   "source": [
    "## 2. What type of license is this Dataset shared under?"
   ]
  },
  {
   "cell_type": "code",
   "execution_count": 12,
   "metadata": {},
   "outputs": [],
   "source": [
    "## Answer: Open Data Commons Open Database License"
   ]
  },
  {
   "cell_type": "code",
   "execution_count": null,
   "metadata": {},
   "outputs": [],
   "source": []
  },
  {
   "cell_type": "code",
   "execution_count": 15,
   "metadata": {},
   "outputs": [
    {
     "data": {
      "text/plain": [
       "Total Project Cost    851\n",
       "dtype: int64"
      ]
     },
     "execution_count": 15,
     "metadata": {},
     "output_type": "execute_result"
    }
   ],
   "source": [
    "## 3. Omit all rows/observations with missing 'Total Project Cost' information.¶\n",
    "data12[['Total Project Cost']].isnull().sum()"
   ]
  },
  {
   "cell_type": "code",
   "execution_count": 16,
   "metadata": {},
   "outputs": [],
   "source": [
    "data12_3 = data12.dropna(subset=['Total Project Cost'])"
   ]
  },
  {
   "cell_type": "code",
   "execution_count": 17,
   "metadata": {},
   "outputs": [
    {
     "data": {
      "text/plain": [
       "(23556, 87)"
      ]
     },
     "execution_count": 17,
     "metadata": {},
     "output_type": "execute_result"
    }
   ],
   "source": [
    "data12_3.shape"
   ]
  },
  {
   "cell_type": "code",
   "execution_count": null,
   "metadata": {},
   "outputs": [],
   "source": []
  },
  {
   "cell_type": "code",
   "execution_count": null,
   "metadata": {},
   "outputs": [],
   "source": [
    "## 4. Filter out the obs for the range of years 2014 - 2019"
   ]
  },
  {
   "cell_type": "code",
   "execution_count": 23,
   "metadata": {},
   "outputs": [
    {
     "data": {
      "text/html": [
       "<div>\n",
       "<style scoped>\n",
       "    .dataframe tbody tr th:only-of-type {\n",
       "        vertical-align: middle;\n",
       "    }\n",
       "\n",
       "    .dataframe tbody tr th {\n",
       "        vertical-align: top;\n",
       "    }\n",
       "\n",
       "    .dataframe thead th {\n",
       "        text-align: right;\n",
       "    }\n",
       "</style>\n",
       "<table border=\"1\" class=\"dataframe\">\n",
       "  <thead>\n",
       "    <tr style=\"text-align: right;\">\n",
       "      <th></th>\n",
       "      <th>CON Project Number</th>\n",
       "      <th>Facility Id</th>\n",
       "      <th>Facility Name</th>\n",
       "      <th>Project Description</th>\n",
       "      <th>Submission Type(s)</th>\n",
       "      <th>Facility Type</th>\n",
       "      <th>Total Project Cost</th>\n",
       "      <th>Revision Reason</th>\n",
       "      <th>Project Status</th>\n",
       "      <th>Project Status Date</th>\n",
       "      <th>...</th>\n",
       "      <th>Council Action (10)</th>\n",
       "      <th>Council Date (10)</th>\n",
       "      <th>Director Action</th>\n",
       "      <th>Director Action Date</th>\n",
       "      <th>ACS Letter Sent Date</th>\n",
       "      <th>PHC Final Approval Letter Sent</th>\n",
       "      <th>Assigned Construction Start Date</th>\n",
       "      <th>Assigned Construction Completion Date</th>\n",
       "      <th>Actual Construction Start Date</th>\n",
       "      <th>Actual Construction Completion Date</th>\n",
       "    </tr>\n",
       "  </thead>\n",
       "  <tbody>\n",
       "    <tr>\n",
       "      <th>count</th>\n",
       "      <td>23556</td>\n",
       "      <td>16139</td>\n",
       "      <td>22997</td>\n",
       "      <td>21785</td>\n",
       "      <td>22802</td>\n",
       "      <td>23491</td>\n",
       "      <td>23556</td>\n",
       "      <td>261</td>\n",
       "      <td>23556</td>\n",
       "      <td>23469</td>\n",
       "      <td>...</td>\n",
       "      <td>0.0</td>\n",
       "      <td>0.0</td>\n",
       "      <td>18328</td>\n",
       "      <td>19695</td>\n",
       "      <td>3869</td>\n",
       "      <td>1178</td>\n",
       "      <td>8413</td>\n",
       "      <td>11139</td>\n",
       "      <td>3383</td>\n",
       "      <td>10598</td>\n",
       "    </tr>\n",
       "    <tr>\n",
       "      <th>unique</th>\n",
       "      <td>23556</td>\n",
       "      <td>2229</td>\n",
       "      <td>7081</td>\n",
       "      <td>19375</td>\n",
       "      <td>36</td>\n",
       "      <td>7</td>\n",
       "      <td>9206</td>\n",
       "      <td>250</td>\n",
       "      <td>18</td>\n",
       "      <td>7101</td>\n",
       "      <td>...</td>\n",
       "      <td>0.0</td>\n",
       "      <td>0.0</td>\n",
       "      <td>7</td>\n",
       "      <td>4160</td>\n",
       "      <td>1637</td>\n",
       "      <td>804</td>\n",
       "      <td>2300</td>\n",
       "      <td>3101</td>\n",
       "      <td>2100</td>\n",
       "      <td>5273</td>\n",
       "    </tr>\n",
       "    <tr>\n",
       "      <th>top</th>\n",
       "      <td>131081</td>\n",
       "      <td>413</td>\n",
       "      <td>Strong Memorial Hospital</td>\n",
       "      <td>Certify part-time clinics</td>\n",
       "      <td>Application - Administrative Review</td>\n",
       "      <td>Hospital</td>\n",
       "      <td>0</td>\n",
       "      <td>Revised:  September 3, 2013 - Removed all cons...</td>\n",
       "      <td>Project Complete</td>\n",
       "      <td>1/5/09</td>\n",
       "      <td>...</td>\n",
       "      <td>NaN</td>\n",
       "      <td>NaN</td>\n",
       "      <td>Contingent Approval</td>\n",
       "      <td>3/22/11</td>\n",
       "      <td>11/28/03</td>\n",
       "      <td>5/24/07</td>\n",
       "      <td>1/1/89</td>\n",
       "      <td>12/31/99</td>\n",
       "      <td>5/1/17</td>\n",
       "      <td>1/1/04</td>\n",
       "    </tr>\n",
       "    <tr>\n",
       "      <th>freq</th>\n",
       "      <td>1</td>\n",
       "      <td>222</td>\n",
       "      <td>262</td>\n",
       "      <td>114</td>\n",
       "      <td>9936</td>\n",
       "      <td>12809</td>\n",
       "      <td>8049</td>\n",
       "      <td>3</td>\n",
       "      <td>15327</td>\n",
       "      <td>183</td>\n",
       "      <td>...</td>\n",
       "      <td>NaN</td>\n",
       "      <td>NaN</td>\n",
       "      <td>10856</td>\n",
       "      <td>60</td>\n",
       "      <td>26</td>\n",
       "      <td>11</td>\n",
       "      <td>34</td>\n",
       "      <td>35</td>\n",
       "      <td>12</td>\n",
       "      <td>19</td>\n",
       "    </tr>\n",
       "  </tbody>\n",
       "</table>\n",
       "<p>4 rows × 87 columns</p>\n",
       "</div>"
      ],
      "text/plain": [
       "       CON Project Number Facility Id             Facility Name  \\\n",
       "count               23556       16139                     22997   \n",
       "unique              23556        2229                      7081   \n",
       "top                131081         413  Strong Memorial Hospital   \n",
       "freq                    1         222                       262   \n",
       "\n",
       "              Project Description                   Submission Type(s)  \\\n",
       "count                       21785                                22802   \n",
       "unique                      19375                                   36   \n",
       "top     Certify part-time clinics  Application - Administrative Review   \n",
       "freq                          114                                 9936   \n",
       "\n",
       "       Facility Type Total Project Cost  \\\n",
       "count          23491              23556   \n",
       "unique             7               9206   \n",
       "top         Hospital                  0   \n",
       "freq           12809               8049   \n",
       "\n",
       "                                          Revision Reason    Project Status  \\\n",
       "count                                                 261             23556   \n",
       "unique                                                250                18   \n",
       "top     Revised:  September 3, 2013 - Removed all cons...  Project Complete   \n",
       "freq                                                    3             15327   \n",
       "\n",
       "       Project Status Date                 ...                  \\\n",
       "count                23469                 ...                   \n",
       "unique                7101                 ...                   \n",
       "top                 1/5/09                 ...                   \n",
       "freq                   183                 ...                   \n",
       "\n",
       "       Council Action (10) Council Date (10)      Director Action  \\\n",
       "count                  0.0               0.0                18328   \n",
       "unique                 0.0               0.0                    7   \n",
       "top                    NaN               NaN  Contingent Approval   \n",
       "freq                   NaN               NaN                10856   \n",
       "\n",
       "       Director Action Date ACS Letter Sent Date  \\\n",
       "count                 19695                 3869   \n",
       "unique                 4160                 1637   \n",
       "top                 3/22/11             11/28/03   \n",
       "freq                     60                   26   \n",
       "\n",
       "       PHC Final Approval Letter Sent Assigned Construction Start Date  \\\n",
       "count                            1178                             8413   \n",
       "unique                            804                             2300   \n",
       "top                           5/24/07                           1/1/89   \n",
       "freq                               11                               34   \n",
       "\n",
       "       Assigned Construction Completion Date Actual Construction Start Date  \\\n",
       "count                                  11139                           3383   \n",
       "unique                                  3101                           2100   \n",
       "top                                 12/31/99                         5/1/17   \n",
       "freq                                      35                             12   \n",
       "\n",
       "       Actual Construction Completion Date  \n",
       "count                                10598  \n",
       "unique                                5273  \n",
       "top                                 1/1/04  \n",
       "freq                                    19  \n",
       "\n",
       "[4 rows x 87 columns]"
      ]
     },
     "execution_count": 23,
     "metadata": {},
     "output_type": "execute_result"
    }
   ],
   "source": [
    "data12_3.describe()"
   ]
  },
  {
   "cell_type": "code",
   "execution_count": 25,
   "metadata": {},
   "outputs": [
    {
     "name": "stdout",
     "output_type": "stream",
     "text": [
      "((23556, 87), CON Project Number                       [[191083, 191082, 191078, 191077, 191076, 1910...\n",
      "Facility Id                              [[1740, 977, 4506, nan, 1445, 6687, 974, 413, ...\n",
      "Facility Name                            [[Staten Island University Hosp-North, Cayuga ...\n",
      "Project Description                      [[nan, Relocate the Interventional Radiology L...\n",
      "Submission Type(s)                       [[Application - Full Review - Construction (No...\n",
      "Facility Type                            [[Hospital, Diagnostic and Treatment Center, C...\n",
      "Total Project Cost                       [[35387054, 1245620, 1100000, 2184235, 0, 4750...\n",
      "Revision Reason                          [[nan, Revised:  December 5, 2018 - Revised to...\n",
      "Project Status                           [[Received, Application is Incomplete, Under R...\n",
      "Project Status Date                      [[2/15/19, 2/13/19, 2/12/19, 2/11/19, 2/14/19,...\n",
      "Review Level                                       [[Full, Admin, Limited, nan, Transfer]]\n",
      "Application Received Date                [[2/15/19, 2/13/19, 2/12/19, 2/11/19, 2/8/19, ...\n",
      "Application Received Year                [[2019, 2018, 2017, 2016, 2015, 2014, 2013, 20...\n",
      "Application Received Month                       [[2, 1, 12, 11, 10, 9, 8, 7, 6, 5, 4, 3]]\n",
      "Initial Review Date                      [[nan, 2/14/19, 2/13/19, 2/12/19, 2/8/19, 2/1/...\n",
      "Acknowledgement Date                     [[nan, 2/13/19, 2/14/19, 2/12/19, 2/11/19, 2/4...\n",
      "Region                                   [[nan, New York City, Long Island, Hudson Vall...\n",
      "Main Site Facility Identifier            [[1740, 977, 4506, nan, 1445, 6687, 974, 413, ...\n",
      "Main Site Facility Name                  [[Staten Island University Hosp-North, Cayuga ...\n",
      "Main Site Address Line1                  [[475 Seaview Avenue, 101 Dates Drive, 979 Cro...\n",
      "Main Site Address Line2                  [[nan, Road North, 7th Floor, Suite 2, 176-60 ...\n",
      "Main Site City                           [[Staten Island, Ithaca, Bronx, Brooklyn, New ...\n",
      "Main Site State                                                                [[NY, nan]]\n",
      "Main Site Zip Code                       [[10305, 14850, 10460, 11201, 10037, 11211, 13...\n",
      "Main Site County Name                    [[RICHMOND, TOMPKINS, BRONX, KINGS, NEW YORK, ...\n",
      "Project Site Facility Identifier         [[1740, nan, 1445, 6687, 6679, 9599, 4230, 131...\n",
      "Project Site Facility Name               [[Staten Island University Hosp-North, Cortlan...\n",
      "Project Site Address Line1               [[475 Seaview Avenue, 1088 commons Avenue, 345...\n",
      "Project Site Address Line2               [[nan, 1st Floor, 600 E. 125th Street, 8th Flo...\n",
      "Project Site City                        [[Staten Island, Cortland, New York, Brooklyn,...\n",
      "                                                               ...                        \n",
      "Council Date (3)                         [[nan, 4/12/18, 1/25/18, 8/3/17, 2/11/16, 10/8...\n",
      "Council Name (4)                         [[nan, Establishment and Project Review Commit...\n",
      "Council Action (4)                       [[nan, Deferral, Disapproval, Contingent Appro...\n",
      "Council Date (4)                         [[nan, 3/22/18, 5/18/17, 10/8/15, 10/3/13, 2/1...\n",
      "Council Name (5)                         [[nan, Public Health and Health Planning Counc...\n",
      "Council Action (5)                       [[nan, Disapproval, Deferral, Contingent Appro...\n",
      "Council Date (5)                         [[nan, 10/11/18, 12/13/18, 12/12/13, 2/3/05, 1...\n",
      "Council Name (6)                         [[nan, Public Health and Health Planning Counc...\n",
      "Council Action (6)                       [[nan, Deferral, Disapproval, Approval, Contin...\n",
      "Council Date (6)                         [[nan, 6/7/18, 6/27/97, 10/5/95, 11/20/92, 10/...\n",
      "Council Name (7)                         [[nan, State Hospital Review and Planning Coun...\n",
      "Council Action (7)                               [[nan, Disapproval, Contingent Approval]]\n",
      "Council Date (7)                         [[nan, 8/5/04, 12/2/04, 12/3/92, 1/24/91, 3/26...\n",
      "Council Name (8)                         [[nan, State Hospital Review and Planning Coun...\n",
      "Council Action (8)                               [[nan, Contingent Approval, Disapproval]]\n",
      "Council Date (8)                                        [[nan, 12/2/99, 2/2/95, 11/19/87]]\n",
      "Council Name (9)                                                                   [[nan]]\n",
      "Council Action (9)                                                                 [[nan]]\n",
      "Council Date (9)                                                                   [[nan]]\n",
      "Council Name (10)                                                                  [[nan]]\n",
      "Council Action (10)                                                                [[nan]]\n",
      "Council Date (10)                                                                  [[nan]]\n",
      "Director Action                          [[nan, Approval, Contingent Approval, Statutor...\n",
      "Director Action Date                     [[nan, 2/11/19, 2/5/19, 2/15/19, 1/28/19, 1/17...\n",
      "ACS Letter Sent Date                     [[nan, 12/31/18, 12/10/18, 12/17/18, 1/30/19, ...\n",
      "PHC Final Approval Letter Sent           [[nan, 1/4/19, 2/11/19, 2/8/19, 2/7/19, 2/6/19...\n",
      "Assigned Construction Start Date         [[nan, 4/7/19, 4/4/19, 4/15/19, 4/1/19, 3/10/1...\n",
      "Assigned Construction Completion Date    [[nan, 5/29/19, 8/28/19, 6/20/20, 12/1/19, 8/1...\n",
      "Actual Construction Start Date           [[nan, 1/14/19, 1/2/19, 1/21/19, 1/7/19, 1/31/...\n",
      "Actual Construction Completion Date      [[nan, 2/11/19, 12/31/18, 1/7/19, 1/17/19, 12/...\n",
      "Length: 87, dtype: object)\n"
     ]
    }
   ],
   "source": [
    "def rstr(df): return df.shape, df.apply(lambda x: [x.unique()])\n",
    "print(rstr(data12_3))"
   ]
  },
  {
   "cell_type": "code",
   "execution_count": 62,
   "metadata": {},
   "outputs": [],
   "source": [
    "filter = (data12_3['Application Received Year'] == '2014') | (data12_3['Application Received Year'] == '2015') | (data12_3['Application Received Year'] == '2016') | (data12_3['Application Received Year'] == '2017') | (data12_3['Application Received Year'] == '2018') | (data12_3['Application Received Year'] == '2019')"
   ]
  },
  {
   "cell_type": "code",
   "execution_count": 63,
   "metadata": {},
   "outputs": [],
   "source": [
    "data12_4 = data12_3[filter]"
   ]
  },
  {
   "cell_type": "code",
   "execution_count": 64,
   "metadata": {},
   "outputs": [
    {
     "data": {
      "text/plain": [
       "(3341, 87)"
      ]
     },
     "execution_count": 64,
     "metadata": {},
     "output_type": "execute_result"
    }
   ],
   "source": [
    "data12_4.shape"
   ]
  },
  {
   "cell_type": "code",
   "execution_count": null,
   "metadata": {},
   "outputs": [],
   "source": []
  },
  {
   "cell_type": "code",
   "execution_count": null,
   "metadata": {},
   "outputs": [],
   "source": [
    "## 5. develop an information plot of total project cost by facility type"
   ]
  },
  {
   "cell_type": "code",
   "execution_count": 65,
   "metadata": {},
   "outputs": [
    {
     "data": {
      "text/html": [
       "<div>\n",
       "<style scoped>\n",
       "    .dataframe tbody tr th:only-of-type {\n",
       "        vertical-align: middle;\n",
       "    }\n",
       "\n",
       "    .dataframe tbody tr th {\n",
       "        vertical-align: top;\n",
       "    }\n",
       "\n",
       "    .dataframe thead th {\n",
       "        text-align: right;\n",
       "    }\n",
       "</style>\n",
       "<table border=\"1\" class=\"dataframe\">\n",
       "  <thead>\n",
       "    <tr style=\"text-align: right;\">\n",
       "      <th></th>\n",
       "      <th>CON Project Number</th>\n",
       "      <th>Facility Id</th>\n",
       "      <th>Facility Name</th>\n",
       "      <th>Project Description</th>\n",
       "      <th>Submission Type(s)</th>\n",
       "      <th>Facility Type</th>\n",
       "      <th>Total Project Cost</th>\n",
       "      <th>Revision Reason</th>\n",
       "      <th>Project Status</th>\n",
       "      <th>Project Status Date</th>\n",
       "      <th>...</th>\n",
       "      <th>Council Action (10)</th>\n",
       "      <th>Council Date (10)</th>\n",
       "      <th>Director Action</th>\n",
       "      <th>Director Action Date</th>\n",
       "      <th>ACS Letter Sent Date</th>\n",
       "      <th>PHC Final Approval Letter Sent</th>\n",
       "      <th>Assigned Construction Start Date</th>\n",
       "      <th>Assigned Construction Completion Date</th>\n",
       "      <th>Actual Construction Start Date</th>\n",
       "      <th>Actual Construction Completion Date</th>\n",
       "    </tr>\n",
       "  </thead>\n",
       "  <tbody>\n",
       "    <tr>\n",
       "      <th>count</th>\n",
       "      <td>3341</td>\n",
       "      <td>3176</td>\n",
       "      <td>3341</td>\n",
       "      <td>3033</td>\n",
       "      <td>3341</td>\n",
       "      <td>3340</td>\n",
       "      <td>3341</td>\n",
       "      <td>198</td>\n",
       "      <td>3341</td>\n",
       "      <td>3335</td>\n",
       "      <td>...</td>\n",
       "      <td>0.0</td>\n",
       "      <td>0.0</td>\n",
       "      <td>2729</td>\n",
       "      <td>2729</td>\n",
       "      <td>1025</td>\n",
       "      <td>347</td>\n",
       "      <td>1672</td>\n",
       "      <td>1776</td>\n",
       "      <td>1319</td>\n",
       "      <td>1711</td>\n",
       "    </tr>\n",
       "    <tr>\n",
       "      <th>unique</th>\n",
       "      <td>3341</td>\n",
       "      <td>841</td>\n",
       "      <td>1052</td>\n",
       "      <td>2997</td>\n",
       "      <td>32</td>\n",
       "      <td>7</td>\n",
       "      <td>2239</td>\n",
       "      <td>192</td>\n",
       "      <td>15</td>\n",
       "      <td>1089</td>\n",
       "      <td>...</td>\n",
       "      <td>0.0</td>\n",
       "      <td>0.0</td>\n",
       "      <td>3</td>\n",
       "      <td>781</td>\n",
       "      <td>546</td>\n",
       "      <td>235</td>\n",
       "      <td>520</td>\n",
       "      <td>672</td>\n",
       "      <td>641</td>\n",
       "      <td>865</td>\n",
       "    </tr>\n",
       "    <tr>\n",
       "      <th>top</th>\n",
       "      <td>161044</td>\n",
       "      <td>6661</td>\n",
       "      <td>Bronx Dialysis Center</td>\n",
       "      <td>Perform various renovations throughout the fac...</td>\n",
       "      <td>Application - Limited Review - Minor Construction</td>\n",
       "      <td>Hospital</td>\n",
       "      <td>0</td>\n",
       "      <td>Revised:  October 13, 2017 - Add two (2) new m...</td>\n",
       "      <td>Project Complete</td>\n",
       "      <td>12/20/18</td>\n",
       "      <td>...</td>\n",
       "      <td>NaN</td>\n",
       "      <td>NaN</td>\n",
       "      <td>Contingent Approval</td>\n",
       "      <td>10/9/15</td>\n",
       "      <td>1/30/17</td>\n",
       "      <td>8/16/17</td>\n",
       "      <td>9/1/17</td>\n",
       "      <td>4/1/19</td>\n",
       "      <td>5/1/17</td>\n",
       "      <td>9/1/17</td>\n",
       "    </tr>\n",
       "    <tr>\n",
       "      <th>freq</th>\n",
       "      <td>1</td>\n",
       "      <td>82</td>\n",
       "      <td>82</td>\n",
       "      <td>5</td>\n",
       "      <td>972</td>\n",
       "      <td>1794</td>\n",
       "      <td>729</td>\n",
       "      <td>2</td>\n",
       "      <td>1716</td>\n",
       "      <td>17</td>\n",
       "      <td>...</td>\n",
       "      <td>NaN</td>\n",
       "      <td>NaN</td>\n",
       "      <td>1487</td>\n",
       "      <td>32</td>\n",
       "      <td>7</td>\n",
       "      <td>7</td>\n",
       "      <td>30</td>\n",
       "      <td>19</td>\n",
       "      <td>12</td>\n",
       "      <td>11</td>\n",
       "    </tr>\n",
       "  </tbody>\n",
       "</table>\n",
       "<p>4 rows × 87 columns</p>\n",
       "</div>"
      ],
      "text/plain": [
       "       CON Project Number Facility Id          Facility Name  \\\n",
       "count                3341        3176                   3341   \n",
       "unique               3341         841                   1052   \n",
       "top                161044        6661  Bronx Dialysis Center   \n",
       "freq                    1          82                     82   \n",
       "\n",
       "                                      Project Description  \\\n",
       "count                                                3033   \n",
       "unique                                               2997   \n",
       "top     Perform various renovations throughout the fac...   \n",
       "freq                                                    5   \n",
       "\n",
       "                                       Submission Type(s) Facility Type  \\\n",
       "count                                                3341          3340   \n",
       "unique                                                 32             7   \n",
       "top     Application - Limited Review - Minor Construction      Hospital   \n",
       "freq                                                  972          1794   \n",
       "\n",
       "       Total Project Cost                                    Revision Reason  \\\n",
       "count                3341                                                198   \n",
       "unique               2239                                                192   \n",
       "top                     0  Revised:  October 13, 2017 - Add two (2) new m...   \n",
       "freq                  729                                                  2   \n",
       "\n",
       "          Project Status Project Status Date  \\\n",
       "count               3341                3335   \n",
       "unique                15                1089   \n",
       "top     Project Complete            12/20/18   \n",
       "freq                1716                  17   \n",
       "\n",
       "                       ...                 Council Action (10)  \\\n",
       "count                  ...                                 0.0   \n",
       "unique                 ...                                 0.0   \n",
       "top                    ...                                 NaN   \n",
       "freq                   ...                                 NaN   \n",
       "\n",
       "       Council Date (10)      Director Action Director Action Date  \\\n",
       "count                0.0                 2729                 2729   \n",
       "unique               0.0                    3                  781   \n",
       "top                  NaN  Contingent Approval              10/9/15   \n",
       "freq                 NaN                 1487                   32   \n",
       "\n",
       "       ACS Letter Sent Date PHC Final Approval Letter Sent  \\\n",
       "count                  1025                            347   \n",
       "unique                  546                            235   \n",
       "top                 1/30/17                        8/16/17   \n",
       "freq                      7                              7   \n",
       "\n",
       "       Assigned Construction Start Date Assigned Construction Completion Date  \\\n",
       "count                              1672                                  1776   \n",
       "unique                              520                                   672   \n",
       "top                              9/1/17                                4/1/19   \n",
       "freq                                 30                                    19   \n",
       "\n",
       "       Actual Construction Start Date Actual Construction Completion Date  \n",
       "count                            1319                                1711  \n",
       "unique                            641                                 865  \n",
       "top                            5/1/17                              9/1/17  \n",
       "freq                               12                                  11  \n",
       "\n",
       "[4 rows x 87 columns]"
      ]
     },
     "execution_count": 65,
     "metadata": {},
     "output_type": "execute_result"
    }
   ],
   "source": [
    "data12_4.describe()"
   ]
  },
  {
   "cell_type": "code",
   "execution_count": 159,
   "metadata": {},
   "outputs": [],
   "source": [
    "data12_5= data12_4[['Facility Type', 'Total Project Cost', 'Application Received Year']]"
   ]
  },
  {
   "cell_type": "code",
   "execution_count": 166,
   "metadata": {},
   "outputs": [
    {
     "data": {
      "text/html": [
       "<div>\n",
       "<style scoped>\n",
       "    .dataframe tbody tr th:only-of-type {\n",
       "        vertical-align: middle;\n",
       "    }\n",
       "\n",
       "    .dataframe tbody tr th {\n",
       "        vertical-align: top;\n",
       "    }\n",
       "\n",
       "    .dataframe thead th {\n",
       "        text-align: right;\n",
       "    }\n",
       "</style>\n",
       "<table border=\"1\" class=\"dataframe\">\n",
       "  <thead>\n",
       "    <tr style=\"text-align: right;\">\n",
       "      <th></th>\n",
       "      <th>Facility Type</th>\n",
       "      <th>Total Project Cost</th>\n",
       "      <th>Application Received Year</th>\n",
       "    </tr>\n",
       "  </thead>\n",
       "  <tbody>\n",
       "    <tr>\n",
       "      <th>0</th>\n",
       "      <td>Hospital</td>\n",
       "      <td>35387054</td>\n",
       "      <td>2019</td>\n",
       "    </tr>\n",
       "    <tr>\n",
       "      <th>1</th>\n",
       "      <td>Hospital</td>\n",
       "      <td>1245620</td>\n",
       "      <td>2019</td>\n",
       "    </tr>\n",
       "    <tr>\n",
       "      <th>5</th>\n",
       "      <td>Diagnostic and Treatment Center</td>\n",
       "      <td>1100000</td>\n",
       "      <td>2019</td>\n",
       "    </tr>\n",
       "    <tr>\n",
       "      <th>6</th>\n",
       "      <td>Diagnostic and Treatment Center</td>\n",
       "      <td>2184235</td>\n",
       "      <td>2019</td>\n",
       "    </tr>\n",
       "    <tr>\n",
       "      <th>7</th>\n",
       "      <td>Hospital</td>\n",
       "      <td>0</td>\n",
       "      <td>2019</td>\n",
       "    </tr>\n",
       "  </tbody>\n",
       "</table>\n",
       "</div>"
      ],
      "text/plain": [
       "                     Facility Type Total Project Cost  \\\n",
       "0                         Hospital           35387054   \n",
       "1                         Hospital            1245620   \n",
       "5  Diagnostic and Treatment Center            1100000   \n",
       "6  Diagnostic and Treatment Center            2184235   \n",
       "7                         Hospital                  0   \n",
       "\n",
       "  Application Received Year  \n",
       "0                      2019  \n",
       "1                      2019  \n",
       "5                      2019  \n",
       "6                      2019  \n",
       "7                      2019  "
      ]
     },
     "execution_count": 166,
     "metadata": {},
     "output_type": "execute_result"
    }
   ],
   "source": [
    "data12_5.head()"
   ]
  },
  {
   "cell_type": "code",
   "execution_count": 167,
   "metadata": {},
   "outputs": [
    {
     "data": {
      "text/plain": [
       "(3341, 3)"
      ]
     },
     "execution_count": 167,
     "metadata": {},
     "output_type": "execute_result"
    }
   ],
   "source": [
    "data12_5.shape"
   ]
  },
  {
   "cell_type": "code",
   "execution_count": 165,
   "metadata": {},
   "outputs": [
    {
     "data": {
      "text/plain": [
       "Facility Type                1\n",
       "Total Project Cost           0\n",
       "Application Received Year    0\n",
       "dtype: int64"
      ]
     },
     "execution_count": 165,
     "metadata": {},
     "output_type": "execute_result"
    }
   ],
   "source": [
    "data12_5.isnull().sum()"
   ]
  },
  {
   "cell_type": "code",
   "execution_count": 168,
   "metadata": {},
   "outputs": [],
   "source": [
    "data12_55 = data12_5.dropna(subset=['Facility Type'])"
   ]
  },
  {
   "cell_type": "code",
   "execution_count": 182,
   "metadata": {},
   "outputs": [
    {
     "data": {
      "text/plain": [
       "(3340, 3)"
      ]
     },
     "execution_count": 182,
     "metadata": {},
     "output_type": "execute_result"
    }
   ],
   "source": [
    "data12_55.shape"
   ]
  },
  {
   "cell_type": "code",
   "execution_count": null,
   "metadata": {},
   "outputs": [],
   "source": [
    "sns.boxplot( x=\"Total Project Cost\", y=\"Facility Type\", data = data12_55)"
   ]
  },
  {
   "cell_type": "code",
   "execution_count": 174,
   "metadata": {},
   "outputs": [
    {
     "data": {
      "text/plain": [
       "0       False\n",
       "1       False\n",
       "5       False\n",
       "6       False\n",
       "7       False\n",
       "8       False\n",
       "9       False\n",
       "10      False\n",
       "11      False\n",
       "12      False\n",
       "13      False\n",
       "15      False\n",
       "16      False\n",
       "17      False\n",
       "18      False\n",
       "19      False\n",
       "20      False\n",
       "21      False\n",
       "22      False\n",
       "23      False\n",
       "24      False\n",
       "25      False\n",
       "26      False\n",
       "27      False\n",
       "28      False\n",
       "29      False\n",
       "30      False\n",
       "32      False\n",
       "33      False\n",
       "34      False\n",
       "        ...  \n",
       "4153    False\n",
       "4154    False\n",
       "4155    False\n",
       "4156    False\n",
       "4157    False\n",
       "4158    False\n",
       "4159    False\n",
       "4160    False\n",
       "4161    False\n",
       "4162    False\n",
       "4163    False\n",
       "4164    False\n",
       "4165    False\n",
       "4166    False\n",
       "4167    False\n",
       "4168    False\n",
       "4169    False\n",
       "4170    False\n",
       "4171    False\n",
       "4172    False\n",
       "4173    False\n",
       "4174    False\n",
       "4176    False\n",
       "4177    False\n",
       "4178    False\n",
       "4179    False\n",
       "4180    False\n",
       "4181    False\n",
       "4182    False\n",
       "4183    False\n",
       "Name: Facility Type, Length: 3341, dtype: object"
      ]
     },
     "execution_count": 174,
     "metadata": {},
     "output_type": "execute_result"
    }
   ],
   "source": [
    "data12_5[\"Facility Type\"].str.isnumeric()"
   ]
  },
  {
   "cell_type": "code",
   "execution_count": null,
   "metadata": {},
   "outputs": [],
   "source": []
  },
  {
   "cell_type": "code",
   "execution_count": null,
   "metadata": {},
   "outputs": [],
   "source": []
  },
  {
   "cell_type": "code",
   "execution_count": 183,
   "metadata": {},
   "outputs": [],
   "source": [
    "## 6. stratify the plot you developed by year"
   ]
  },
  {
   "cell_type": "code",
   "execution_count": 184,
   "metadata": {},
   "outputs": [],
   "source": [
    "data12_6= data12_4[['Total Project Cost', 'Application Received Year']]"
   ]
  },
  {
   "cell_type": "code",
   "execution_count": 186,
   "metadata": {},
   "outputs": [
    {
     "data": {
      "text/html": [
       "<div>\n",
       "<style scoped>\n",
       "    .dataframe tbody tr th:only-of-type {\n",
       "        vertical-align: middle;\n",
       "    }\n",
       "\n",
       "    .dataframe tbody tr th {\n",
       "        vertical-align: top;\n",
       "    }\n",
       "\n",
       "    .dataframe thead th {\n",
       "        text-align: right;\n",
       "    }\n",
       "</style>\n",
       "<table border=\"1\" class=\"dataframe\">\n",
       "  <thead>\n",
       "    <tr style=\"text-align: right;\">\n",
       "      <th></th>\n",
       "      <th>Total Project Cost</th>\n",
       "      <th>Application Received Year</th>\n",
       "    </tr>\n",
       "  </thead>\n",
       "  <tbody>\n",
       "    <tr>\n",
       "      <th>count</th>\n",
       "      <td>3341</td>\n",
       "      <td>3341</td>\n",
       "    </tr>\n",
       "    <tr>\n",
       "      <th>unique</th>\n",
       "      <td>2239</td>\n",
       "      <td>6</td>\n",
       "    </tr>\n",
       "    <tr>\n",
       "      <th>top</th>\n",
       "      <td>0</td>\n",
       "      <td>2016</td>\n",
       "    </tr>\n",
       "    <tr>\n",
       "      <th>freq</th>\n",
       "      <td>729</td>\n",
       "      <td>813</td>\n",
       "    </tr>\n",
       "  </tbody>\n",
       "</table>\n",
       "</div>"
      ],
      "text/plain": [
       "       Total Project Cost Application Received Year\n",
       "count                3341                      3341\n",
       "unique               2239                         6\n",
       "top                     0                      2016\n",
       "freq                  729                       813"
      ]
     },
     "execution_count": 186,
     "metadata": {},
     "output_type": "execute_result"
    }
   ],
   "source": [
    "data12_6.describe()"
   ]
  },
  {
   "cell_type": "code",
   "execution_count": 188,
   "metadata": {},
   "outputs": [
    {
     "data": {
      "text/plain": [
       "Total Project Cost           0\n",
       "Application Received Year    0\n",
       "dtype: int64"
      ]
     },
     "execution_count": 188,
     "metadata": {},
     "output_type": "execute_result"
    }
   ],
   "source": [
    "data12_6.isnull().sum()"
   ]
  },
  {
   "cell_type": "code",
   "execution_count": 200,
   "metadata": {},
   "outputs": [],
   "source": [
    "data12_6.columns=['Cost', 'Year']\n",
    " "
   ]
  },
  {
   "cell_type": "code",
   "execution_count": 201,
   "metadata": {},
   "outputs": [
    {
     "data": {
      "text/html": [
       "<div>\n",
       "<style scoped>\n",
       "    .dataframe tbody tr th:only-of-type {\n",
       "        vertical-align: middle;\n",
       "    }\n",
       "\n",
       "    .dataframe tbody tr th {\n",
       "        vertical-align: top;\n",
       "    }\n",
       "\n",
       "    .dataframe thead th {\n",
       "        text-align: right;\n",
       "    }\n",
       "</style>\n",
       "<table border=\"1\" class=\"dataframe\">\n",
       "  <thead>\n",
       "    <tr style=\"text-align: right;\">\n",
       "      <th></th>\n",
       "      <th>Cost</th>\n",
       "      <th>Year</th>\n",
       "    </tr>\n",
       "  </thead>\n",
       "  <tbody>\n",
       "    <tr>\n",
       "      <th>0</th>\n",
       "      <td>35387054</td>\n",
       "      <td>2019</td>\n",
       "    </tr>\n",
       "    <tr>\n",
       "      <th>1</th>\n",
       "      <td>1245620</td>\n",
       "      <td>2019</td>\n",
       "    </tr>\n",
       "    <tr>\n",
       "      <th>5</th>\n",
       "      <td>1100000</td>\n",
       "      <td>2019</td>\n",
       "    </tr>\n",
       "    <tr>\n",
       "      <th>6</th>\n",
       "      <td>2184235</td>\n",
       "      <td>2019</td>\n",
       "    </tr>\n",
       "    <tr>\n",
       "      <th>7</th>\n",
       "      <td>0</td>\n",
       "      <td>2019</td>\n",
       "    </tr>\n",
       "  </tbody>\n",
       "</table>\n",
       "</div>"
      ],
      "text/plain": [
       "       Cost  Year\n",
       "0  35387054  2019\n",
       "1   1245620  2019\n",
       "5   1100000  2019\n",
       "6   2184235  2019\n",
       "7         0  2019"
      ]
     },
     "execution_count": 201,
     "metadata": {},
     "output_type": "execute_result"
    }
   ],
   "source": [
    "data12_6.head()"
   ]
  },
  {
   "cell_type": "code",
   "execution_count": 203,
   "metadata": {},
   "outputs": [],
   "source": [
    "Years_order = data12_6.Year.value_counts().index"
   ]
  },
  {
   "cell_type": "code",
   "execution_count": 204,
   "metadata": {},
   "outputs": [
    {
     "data": {
      "text/plain": [
       "Index(['2016', '2015', '2017', '2018', '2014', '2019'], dtype='object')"
      ]
     },
     "execution_count": 204,
     "metadata": {},
     "output_type": "execute_result"
    }
   ],
   "source": [
    "Years_order"
   ]
  },
  {
   "cell_type": "code",
   "execution_count": 205,
   "metadata": {},
   "outputs": [
    {
     "name": "stderr",
     "output_type": "stream",
     "text": [
      "/Applications/anaconda3/lib/python3.7/site-packages/scipy/stats/stats.py:1713: FutureWarning: Using a non-tuple sequence for multidimensional indexing is deprecated; use `arr[tuple(seq)]` instead of `arr[seq]`. In the future this will be interpreted as an array index, `arr[np.array(seq)]`, which will result either in an error or a different result.\n",
      "  return np.add.reduce(sorted[indexer] * weights, axis=axis) / sumval\n"
     ]
    },
    {
     "data": {
      "image/png": "[encoded data removed]",
      "text/plain": [
       "<Figure size 1296x1296 with 6 Axes>"
      ]
     },
     "metadata": {},
     "output_type": "display_data"
    }
   ],
   "source": [
    "g = sns.FacetGrid (data12_6, row=\"Year\", row_order=Years_order,aspect=6,)\n",
    "g.map(sns.distplot, \"Cost\", hist=False);"
   ]
  },
  {
   "cell_type": "code",
   "execution_count": null,
   "metadata": {},
   "outputs": [],
   "source": [
    "## 7. develop an inforamtive visual plot of your choice"
   ]
  },
  {
   "cell_type": "code",
   "execution_count": null,
   "metadata": {},
   "outputs": [],
   "source": [
    "g = sns.FacetGrid(data12_6, hue=\"Year\")\n",
    "g.map(plt.scatter, \"Cost\", \"Year\", alpha=.7)\n",
    "g.add_legend();"
   ]
  },
  {
   "cell_type": "code",
   "execution_count": null,
   "metadata": {},
   "outputs": [],
   "source": []
  }
 ],
 "metadata": {
  "kernelspec": {
   "display_name": "Python 3",
   "language": "python",
   "name": "python3"
  },
  "language_info": {
   "codemirror_mode": {
    "name": "ipython",
    "version": 3
   },
   "file_extension": ".py",
   "mimetype": "text/x-python",
   "name": "python",
   "nbconvert_exporter": "python",
   "pygments_lexer": "ipython3",
   "version": "3.7.0"
  }
 },
 "nbformat": 4,
 "nbformat_minor": 2
}
