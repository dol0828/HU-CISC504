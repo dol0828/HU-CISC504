{
 "cells": [
  {
   "cell_type": "code",
   "execution_count": 1,
   "metadata": {},
   "outputs": [
    {
     "name": "stdout",
     "output_type": "stream",
     "text": [
      "Hello John\n",
      "How are you?\n"
     ]
    }
   ],
   "source": [
    "def greet_john_function():\n",
    "    print(\"Hello John\")\n",
    "    print(\"How are you?\")\n",
    "greet_john_function()"
   ]
  },
  {
   "cell_type": "code",
   "execution_count": 2,
   "metadata": {},
   "outputs": [
    {
     "data": {
      "text/plain": [
       "40"
      ]
     },
     "execution_count": 2,
     "metadata": {},
     "output_type": "execute_result"
    }
   ],
   "source": [
    "def multiply(a,b,c):\n",
    "    return a*b*c\n",
    "multiply(2,4,5)"
   ]
  },
  {
   "cell_type": "code",
   "execution_count": 3,
   "metadata": {},
   "outputs": [
    {
     "data": {
      "text/plain": [
       "8"
      ]
     },
     "execution_count": 3,
     "metadata": {},
     "output_type": "execute_result"
    }
   ],
   "source": [
    "def function_a():\n",
    "    global b\n",
    "    a=2\n",
    "    b=3\n",
    "    return a + b\n",
    "def function_b():\n",
    "    c=5\n",
    "    return b+c\n",
    "function_a()\n",
    "function_b()"
   ]
  },
  {
   "cell_type": "code",
   "execution_count": 11,
   "metadata": {},
   "outputs": [],
   "source": [
    "import numpy as np\n",
    "\n",
    "a=np.array([[4,5,6],[3,2,5]])"
   ]
  },
  {
   "cell_type": "code",
   "execution_count": 12,
   "metadata": {},
   "outputs": [
    {
     "data": {
      "text/plain": [
       "array([[4, 5, 6],\n",
       "       [3, 2, 5]])"
      ]
     },
     "execution_count": 12,
     "metadata": {},
     "output_type": "execute_result"
    }
   ],
   "source": [
    "a"
   ]
  },
  {
   "cell_type": "code",
   "execution_count": 13,
   "metadata": {},
   "outputs": [
    {
     "data": {
      "text/plain": [
       "numpy.ndarray"
      ]
     },
     "execution_count": 13,
     "metadata": {},
     "output_type": "execute_result"
    }
   ],
   "source": [
    "type(a)"
   ]
  },
  {
   "cell_type": "code",
   "execution_count": 17,
   "metadata": {},
   "outputs": [
    {
     "data": {
      "text/plain": [
       "(2, 3)"
      ]
     },
     "execution_count": 17,
     "metadata": {},
     "output_type": "execute_result"
    }
   ],
   "source": [
    "a.shape"
   ]
  },
  {
   "cell_type": "code",
   "execution_count": 19,
   "metadata": {},
   "outputs": [
    {
     "name": "stdout",
     "output_type": "stream",
     "text": [
      "[[3 5 6 8 9]\n",
      " [6 7 5 4 5]\n",
      " [9 7 6 4 3]]\n"
     ]
    }
   ],
   "source": [
    "array1=np.array([[3,5,6,8,9],[6,7,5,4,5],[9,7,6,4,3]])\n",
    "print(array1)\n"
   ]
  },
  {
   "cell_type": "code",
   "execution_count": 20,
   "metadata": {},
   "outputs": [
    {
     "data": {
      "text/plain": [
       "array([[0.40579774, 0.47312229, 0.66218636, 0.37624522, 0.8990572 ],\n",
       "       [0.23767088, 0.24431266, 0.97688541, 0.23024925, 0.40820939],\n",
       "       [0.3824927 , 0.52916747, 0.14935115, 0.79791718, 0.54006273],\n",
       "       [0.54601522, 0.7290512 , 0.61436606, 0.64932089, 0.4637348 ]])"
      ]
     },
     "execution_count": 20,
     "metadata": {},
     "output_type": "execute_result"
    }
   ],
   "source": [
    "np.random.random((4,5))"
   ]
  },
  {
   "cell_type": "code",
   "execution_count": 21,
   "metadata": {},
   "outputs": [
    {
     "name": "stdout",
     "output_type": "stream",
     "text": [
      "[14 21 28 35 42]\n"
     ]
    }
   ],
   "source": [
    "## Creating a sequence of integers from 14 49 with steps of 7\n",
    "array4=np.arange(14,49,7)\n",
    "print(array4)"
   ]
  },
  {
   "cell_type": "code",
   "execution_count": 29,
   "metadata": {},
   "outputs": [
    {
     "data": {
      "text/plain": [
       "array([18, 19, 17, 16, 17])"
      ]
     },
     "execution_count": 29,
     "metadata": {},
     "output_type": "execute_result"
    }
   ],
   "source": [
    "array1.sum(axis = 0)"
   ]
  },
  {
   "cell_type": "code",
   "execution_count": 30,
   "metadata": {},
   "outputs": [
    {
     "data": {
      "text/plain": [
       "array([[1.73205081, 2.23606798, 2.44948974, 2.82842712, 3.        ],\n",
       "       [2.44948974, 2.64575131, 2.23606798, 2.        , 2.23606798],\n",
       "       [3.        , 2.64575131, 2.44948974, 2.        , 1.73205081]])"
      ]
     },
     "execution_count": 30,
     "metadata": {},
     "output_type": "execute_result"
    }
   ],
   "source": [
    "np.sqrt(array1)"
   ]
  },
  {
   "cell_type": "code",
   "execution_count": 31,
   "metadata": {},
   "outputs": [
    {
     "data": {
      "text/plain": [
       "array([[ 0.14112001, -0.95892427, -0.2794155 ,  0.98935825,  0.41211849],\n",
       "       [-0.2794155 ,  0.6569866 , -0.95892427, -0.7568025 , -0.95892427],\n",
       "       [ 0.41211849,  0.6569866 , -0.2794155 , -0.7568025 ,  0.14112001]])"
      ]
     },
     "execution_count": 31,
     "metadata": {},
     "output_type": "execute_result"
    }
   ],
   "source": [
    "np.sin(array1)"
   ]
  },
  {
   "cell_type": "code",
   "execution_count": 35,
   "metadata": {},
   "outputs": [
    {
     "data": {
      "text/plain": [
       "array([[3, 5, 5, 4, 3],\n",
       "       [6, 7, 6, 4, 5],\n",
       "       [9, 7, 6, 8, 9]])"
      ]
     },
     "execution_count": 35,
     "metadata": {},
     "output_type": "execute_result"
    }
   ],
   "source": [
    "np.sort(array1, axis = 0)"
   ]
  },
  {
   "cell_type": "code",
   "execution_count": 36,
   "metadata": {},
   "outputs": [
    {
     "data": {
      "text/plain": [
       "array([[3, 5, 6, 8, 9],\n",
       "       [4, 5, 5, 6, 7],\n",
       "       [3, 4, 6, 7, 9]])"
      ]
     },
     "execution_count": 36,
     "metadata": {},
     "output_type": "execute_result"
    }
   ],
   "source": [
    "np.sort(array1, axis = 1)"
   ]
  },
  {
   "cell_type": "code",
   "execution_count": 38,
   "metadata": {},
   "outputs": [
    {
     "name": "stdout",
     "output_type": "stream",
     "text": [
      "[3 5 6 8 9]\n"
     ]
    }
   ],
   "source": [
    "##Slicing elements from 3rd row\n",
    "print(array1[0,...])"
   ]
  },
  {
   "cell_type": "code",
   "execution_count": 39,
   "metadata": {},
   "outputs": [
    {
     "data": {
      "text/plain": [
       "array([3, 5, 6, 8, 9])"
      ]
     },
     "execution_count": 39,
     "metadata": {},
     "output_type": "execute_result"
    }
   ],
   "source": [
    "array1[0,...]"
   ]
  },
  {
   "cell_type": "code",
   "execution_count": null,
   "metadata": {},
   "outputs": [],
   "source": []
  },
  {
   "cell_type": "code",
   "execution_count": null,
   "metadata": {},
   "outputs": [],
   "source": []
  },
  {
   "cell_type": "code",
   "execution_count": null,
   "metadata": {},
   "outputs": [],
   "source": []
  },
  {
   "cell_type": "markdown",
   "metadata": {},
   "source": [
    "## LESSON 6 HOMEWORK"
   ]
  },
  {
   "cell_type": "code",
   "execution_count": 5,
   "metadata": {},
   "outputs": [],
   "source": [
    "# HW Exercise 1: Write a Python function which will sum all the following \n",
    "# listed items (5,8,2,4,7,9)"
   ]
  },
  {
   "cell_type": "code",
   "execution_count": 9,
   "metadata": {},
   "outputs": [
    {
     "data": {
      "text/plain": [
       "35"
      ]
     },
     "execution_count": 9,
     "metadata": {},
     "output_type": "execute_result"
    }
   ],
   "source": [
    "def sum_all(a, b, c, d, e, f):\n",
    "    return a+b+c+d+e+f\n",
    "sum_all(5,8,2,4,7,9)"
   ]
  },
  {
   "cell_type": "code",
   "execution_count": 10,
   "metadata": {},
   "outputs": [
    {
     "data": {
      "text/plain": [
       "720"
      ]
     },
     "execution_count": 10,
     "metadata": {},
     "output_type": "execute_result"
    }
   ],
   "source": [
    "# HW Exercise 2: Write a Python function which will find the product/multiply\n",
    "# the items in the following list: (4,3,5,6,2)¶\n",
    "def function():\n",
    "    a= 4\n",
    "    b= 3\n",
    "    c= 5\n",
    "    d= 6\n",
    "    e= 2\n",
    "    return a*b*c*d*e\n",
    "function()"
   ]
  },
  {
   "cell_type": "code",
   "execution_count": 40,
   "metadata": {},
   "outputs": [
    {
     "name": "stdout",
     "output_type": "stream",
     "text": [
      "[[5 5 8 8 9 8]\n",
      " [7 7 5 3 5 7]\n",
      " [8 7 8 4 2 6]\n",
      " [9 9 7 3 1 4]]\n"
     ]
    }
   ],
   "source": [
    "# HW Exercise: Given the following array:\n",
    "array_hw=np.array([[5,5,8,8,9,8],[7,7,5,3,5,7],[8,7,8,4,2,6],[9,9,7,3,1,4]])\n",
    "print(array_hw)"
   ]
  },
  {
   "cell_type": "code",
   "execution_count": 46,
   "metadata": {},
   "outputs": [
    {
     "name": "stdout",
     "output_type": "stream",
     "text": [
      "[1 2 3 3 4 4 5 5 5 5 6 7 7 7 7 7 8 8 8 8 8 9 9 9]\n"
     ]
    }
   ],
   "source": [
    "# Using numpy:\n",
    "# a. sort the flattened array\n",
    "flat_array_hw = array_hw.flatten()\n",
    "print(np.sort(flat_array_hw))"
   ]
  },
  {
   "cell_type": "code",
   "execution_count": 48,
   "metadata": {},
   "outputs": [
    {
     "name": "stdout",
     "output_type": "stream",
     "text": [
      "[5 7 7 9]\n"
     ]
    }
   ],
   "source": [
    "# b. sort the second column\n",
    "print(np.sort(array_hw[...,1]))"
   ]
  },
  {
   "cell_type": "code",
   "execution_count": 52,
   "metadata": {},
   "outputs": [
    {
     "name": "stdout",
     "output_type": "stream",
     "text": [
      "[2 4 6 7 8 8]\n"
     ]
    }
   ],
   "source": [
    "# c. sort the third row\n",
    "print(np.sort(array_hw[2,...]))"
   ]
  },
  {
   "cell_type": "code",
   "execution_count": 53,
   "metadata": {},
   "outputs": [
    {
     "name": "stdout",
     "output_type": "stream",
     "text": [
      "[[3 5 5 7 7 7]\n",
      " [2 4 6 7 8 8]\n",
      " [1 3 4 7 9 9]]\n"
     ]
    }
   ],
   "source": [
    "# d. extract the second row onwards\n",
    "print(np.sort(array_hw[1:,...]))"
   ]
  },
  {
   "cell_type": "code",
   "execution_count": 54,
   "metadata": {},
   "outputs": [
    {
     "name": "stdout",
     "output_type": "stream",
     "text": [
      "[[8 8 8 9]\n",
      " [3 5 5 7]\n",
      " [2 4 6 8]\n",
      " [1 3 4 7]]\n"
     ]
    }
   ],
   "source": [
    "# e. extract the third column onwards\n",
    "print(np.sort(array_hw[...,2:]))"
   ]
  },
  {
   "cell_type": "code",
   "execution_count": 56,
   "metadata": {},
   "outputs": [
    {
     "name": "stdout",
     "output_type": "stream",
     "text": [
      "[[25 25 64 64 81 64]\n",
      " [49 49 25  9 25 49]\n",
      " [64 49 64 16  4 36]\n",
      " [81 81 49  9  1 16]]\n"
     ]
    }
   ],
   "source": [
    "# f.obtain the square of array_hw\n",
    "print(np.square(array_hw))"
   ]
  },
  {
   "cell_type": "code",
   "execution_count": 57,
   "metadata": {},
   "outputs": [
    {
     "name": "stdout",
     "output_type": "stream",
     "text": [
      "4\n"
     ]
    }
   ],
   "source": [
    "# g.Slice the element from the third row and fourth column position 3X4\n",
    "print(array_hw[2,3])"
   ]
  },
  {
   "cell_type": "code",
   "execution_count": 58,
   "metadata": {},
   "outputs": [
    {
     "name": "stdout",
     "output_type": "stream",
     "text": [
      "145\n"
     ]
    }
   ],
   "source": [
    "# f. obtain the total sum of array_hw\n",
    "print(np.sum(array_hw))"
   ]
  },
  {
   "cell_type": "code",
   "execution_count": 59,
   "metadata": {},
   "outputs": [
    {
     "data": {
      "text/plain": [
       "2"
      ]
     },
     "execution_count": 59,
     "metadata": {},
     "output_type": "execute_result"
    }
   ],
   "source": [
    "# h. how many dimentions does array_hw have?\n",
    "array_hw.ndim"
   ]
  },
  {
   "cell_type": "code",
   "execution_count": 62,
   "metadata": {},
   "outputs": [
    {
     "data": {
      "text/plain": [
       "dtype('int64')"
      ]
     },
     "execution_count": 62,
     "metadata": {},
     "output_type": "execute_result"
    }
   ],
   "source": [
    "# i. what is the data type listed in array_hw\n",
    "array_hw.dtype"
   ]
  },
  {
   "cell_type": "code",
   "execution_count": 64,
   "metadata": {},
   "outputs": [
    {
     "data": {
      "text/plain": [
       "192"
      ]
     },
     "execution_count": 64,
     "metadata": {},
     "output_type": "execute_result"
    }
   ],
   "source": [
    "# j. What is the size of the memory in bytes consumed by all the elements in array_hw\n",
    "array_hw.nbytes"
   ]
  }
 ],
 "metadata": {
  "kernelspec": {
   "display_name": "Python 3",
   "language": "python",
   "name": "python3"
  },
  "language_info": {
   "codemirror_mode": {
    "name": "ipython",
    "version": 3
   },
   "file_extension": ".py",
   "mimetype": "text/x-python",
   "name": "python",
   "nbconvert_exporter": "python",
   "pygments_lexer": "ipython3",
   "version": "3.7.0"
  }
 },
 "nbformat": 4,
 "nbformat_minor": 2
}
