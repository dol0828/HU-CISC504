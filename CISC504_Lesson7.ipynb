{
 "cells": [
  {
   "cell_type": "code",
   "execution_count": 2,
   "metadata": {},
   "outputs": [
    {
     "name": "stdout",
     "output_type": "stream",
     "text": [
      "Height in meters: 1.72\n",
      "Weight in kg: 68\n",
      "22.985397512168742\n"
     ]
    }
   ],
   "source": [
    "height = float(input('Height in meters: '))\n",
    "weight = int(input('Weight in kg: '))\n",
    "bmi = weight/(height*height)\n",
    "print (bmi)\n",
    "if bmi<18.5: print ('You are underweight')\n",
    "if bmi>=25: print ('You are overweight')"
   ]
  },
  {
   "cell_type": "code",
   "execution_count": 4,
   "metadata": {},
   "outputs": [
    {
     "data": {
      "text/plain": [
       "False"
      ]
     },
     "execution_count": 4,
     "metadata": {},
     "output_type": "execute_result"
    }
   ],
   "source": [
    "1<0"
   ]
  },
  {
   "cell_type": "code",
   "execution_count": 5,
   "metadata": {},
   "outputs": [
    {
     "data": {
      "text/plain": [
       "True"
      ]
     },
     "execution_count": 5,
     "metadata": {},
     "output_type": "execute_result"
    }
   ],
   "source": [
    "10==10"
   ]
  },
  {
   "cell_type": "code",
   "execution_count": 6,
   "metadata": {},
   "outputs": [
    {
     "data": {
      "text/plain": [
       "True"
      ]
     },
     "execution_count": 6,
     "metadata": {},
     "output_type": "execute_result"
    }
   ],
   "source": [
    "15>10"
   ]
  },
  {
   "cell_type": "code",
   "execution_count": 7,
   "metadata": {},
   "outputs": [
    {
     "name": "stdout",
     "output_type": "stream",
     "text": [
      "Height in meters: 1.72\n",
      "Weight in kg: 68\n",
      "22.985397512168742\n",
      "You are normal weight\n"
     ]
    }
   ],
   "source": [
    "height = float(input('Height in meters: '))\n",
    "weight = int(input('Weight in kg: '))\n",
    "bmi = weight/(height*height)\n",
    "print (bmi)\n",
    "if bmi<18.5: print ('You are underweight')\n",
    "if bmi>=18.5 and bmi<25: print ('You are normal weight')\n",
    "if bmi>=25: print ('You are overweight')"
   ]
  },
  {
   "cell_type": "code",
   "execution_count": 8,
   "metadata": {},
   "outputs": [
    {
     "name": "stdout",
     "output_type": "stream",
     "text": [
      "Height in meters: 1.72\n",
      "Weight in kg: 68\n",
      "22.985397512168742\n",
      "You are normal weight\n"
     ]
    }
   ],
   "source": [
    "height = float(input('Height in meters: '))\n",
    "weight = int(input('Weight in kg: '))\n",
    "bmi = weight/(height*height)\n",
    "print (bmi)\n",
    "if bmi<18.5: print ('You are underweight')\n",
    "if bmi>=25:  print ('You are overweight')\n",
    "else:        print ('You are normal weight')"
   ]
  },
  {
   "cell_type": "code",
   "execution_count": 9,
   "metadata": {},
   "outputs": [
    {
     "name": "stdout",
     "output_type": "stream",
     "text": [
      "This is false\n"
     ]
    }
   ],
   "source": [
    "if 10 and 7 > 9: print ('This is True')\n",
    "else:            print ('This is false')"
   ]
  },
  {
   "cell_type": "code",
   "execution_count": 10,
   "metadata": {},
   "outputs": [
    {
     "name": "stdout",
     "output_type": "stream",
     "text": [
      "Height in meters: 1.72\n",
      "Weight in kg: 68\n",
      "22.985397512168742\n",
      "You are normal weight\n"
     ]
    }
   ],
   "source": [
    "height = float(input('Height in meters: '))\n",
    "weight = int(input('Weight in kg: '))\n",
    "bmi = weight/(height*height)\n",
    "print (bmi)\n",
    "if bmi<18.5:               print ('You are underweight')\n",
    "elif bmi>=18.5 or bmi<25:  print ('You are normal weight')\n",
    "elif bmi>=25:              print ('You are overweight')"
   ]
  },
  {
   "cell_type": "code",
   "execution_count": 24,
   "metadata": {},
   "outputs": [
    {
     "name": "stdout",
     "output_type": "stream",
     "text": [
      "That is correct\n"
     ]
    }
   ],
   "source": [
    "list1=[3,6,7,5,2,9]\n",
    "if 12 not in list1:   print ('That is correct')\n",
    "else:                 print ('That is false!!')"
   ]
  },
  {
   "cell_type": "code",
   "execution_count": 35,
   "metadata": {},
   "outputs": [],
   "source": [
    "import datetime as dt"
   ]
  },
  {
   "cell_type": "code",
   "execution_count": 36,
   "metadata": {},
   "outputs": [
    {
     "data": {
      "text/plain": [
       "datetime.datetime(2019, 1, 7, 23, 15, 29, 823782)"
      ]
     },
     "execution_count": 36,
     "metadata": {},
     "output_type": "execute_result"
    }
   ],
   "source": [
    "dt.datetime.now()"
   ]
  },
  {
   "cell_type": "code",
   "execution_count": 37,
   "metadata": {},
   "outputs": [
    {
     "data": {
      "text/plain": [
       "'19/01/07'"
      ]
     },
     "execution_count": 37,
     "metadata": {},
     "output_type": "execute_result"
    }
   ],
   "source": [
    "dt.datetime.today().strftime(\"%y/%m/%d\")"
   ]
  },
  {
   "cell_type": "code",
   "execution_count": null,
   "metadata": {},
   "outputs": [],
   "source": []
  },
  {
   "cell_type": "code",
   "execution_count": null,
   "metadata": {},
   "outputs": [],
   "source": []
  },
  {
   "cell_type": "markdown",
   "metadata": {},
   "source": [
    "# LESSON 7 HOMEWORK"
   ]
  },
  {
   "cell_type": "code",
   "execution_count": 27,
   "metadata": {},
   "outputs": [
    {
     "name": "stdout",
     "output_type": "stream",
     "text": [
      "That is correct\n"
     ]
    }
   ],
   "source": [
    "# HW Exercise 1: Write a conversion program, calculator, or write any other program which uses a multi-way decision \n",
    "# structure if, elif, else, and boolean logic to classify the outcome.\n",
    "list1=[3,6,7,5,2,9]\n",
    "value = [10]\n",
    "if value not in list1:   print ('That is correct')\n",
    "else:                print ('That is false!!')"
   ]
  },
  {
   "cell_type": "code",
   "execution_count": null,
   "metadata": {},
   "outputs": [],
   "source": [
    "# HW Exercise2: Write a program which will generate some exceptions then use the try,except, else, and finally \n",
    "# statements to handle them.\n"
   ]
  },
  {
   "cell_type": "code",
   "execution_count": 32,
   "metadata": {},
   "outputs": [],
   "source": [
    "reference_table = {'yellow':5, 'red':6, 'blue':7, 'green':8}"
   ]
  },
  {
   "cell_type": "code",
   "execution_count": 34,
   "metadata": {},
   "outputs": [
    {
     "name": "stdout",
     "output_type": "stream",
     "text": [
      "No reference found in the dictionary\n",
      "Enter more statements here if required using finally:\n"
     ]
    }
   ],
   "source": [
    "try:\n",
    "    reference['purple']\n",
    "except KeyError:\n",
    "    print ('No reference found in the dictionary')\n",
    "finally:\n",
    "    print ('Enter more statements here if required using finally:')"
   ]
  },
  {
   "cell_type": "code",
   "execution_count": null,
   "metadata": {},
   "outputs": [],
   "source": []
  },
  {
   "cell_type": "code",
   "execution_count": null,
   "metadata": {},
   "outputs": [],
   "source": []
  }
 ],
 "metadata": {
  "kernelspec": {
   "display_name": "Python 3",
   "language": "python",
   "name": "python3"
  },
  "language_info": {
   "codemirror_mode": {
    "name": "ipython",
    "version": 3
   },
   "file_extension": ".py",
   "mimetype": "text/x-python",
   "name": "python",
   "nbconvert_exporter": "python",
   "pygments_lexer": "ipython3",
   "version": "3.7.0"
  }
 },
 "nbformat": 4,
 "nbformat_minor": 2
}
