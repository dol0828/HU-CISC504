{
 "cells": [
  {
   "cell_type": "code",
   "execution_count": 1,
   "metadata": {},
   "outputs": [
    {
     "name": "stdout",
     "output_type": "stream",
     "text": [
      "Hello CISC504\n"
     ]
    }
   ],
   "source": [
    "print('Hello CISC504')"
   ]
  },
  {
   "cell_type": "code",
   "execution_count": 2,
   "metadata": {},
   "outputs": [
    {
     "name": "stdout",
     "output_type": "stream",
     "text": [
      "6\n"
     ]
    }
   ],
   "source": [
    "print(1+5)"
   ]
  },
  {
   "cell_type": "code",
   "execution_count": 3,
   "metadata": {},
   "outputs": [
    {
     "name": "stdout",
     "output_type": "stream",
     "text": [
      "11\n"
     ]
    }
   ],
   "source": [
    "print(1+5*2)"
   ]
  },
  {
   "cell_type": "code",
   "execution_count": 4,
   "metadata": {},
   "outputs": [
    {
     "name": "stdout",
     "output_type": "stream",
     "text": [
      "2.0\n"
     ]
    }
   ],
   "source": [
    "# This is a comment\n",
    "# You will be using comments in an upcoming exercise to explain some Python output\n",
    "print(4/2) # comments can also be added in-line, following a statement"
   ]
  },
  {
   "cell_type": "code",
   "execution_count": 5,
   "metadata": {},
   "outputs": [
    {
     "name": "stdout",
     "output_type": "stream",
     "text": [
      "8\n"
     ]
    }
   ],
   "source": [
    "# This is a similar example using multiplication, note the star operator symbolizes the multiplication function\n",
    "print(4*2)"
   ]
  },
  {
   "cell_type": "code",
   "execution_count": 7,
   "metadata": {},
   "outputs": [],
   "source": [
    "# The following code shows another way of doing arithmetics\n",
    "def minus(number1, number2): return(number1 - number2)"
   ]
  },
  {
   "cell_type": "code",
   "execution_count": 8,
   "metadata": {},
   "outputs": [
    {
     "data": {
      "text/plain": [
       "4"
      ]
     },
     "execution_count": 8,
     "metadata": {},
     "output_type": "execute_result"
    }
   ],
   "source": [
    "minus(5, 1)"
   ]
  },
  {
   "cell_type": "code",
   "execution_count": 9,
   "metadata": {},
   "outputs": [],
   "source": [
    "#This is a statement which defines a greeting function\n",
    "def greeting ():\n",
    "    print ('Hello')\n",
    "    print ('How are you?')"
   ]
  },
  {
   "cell_type": "code",
   "execution_count": 10,
   "metadata": {},
   "outputs": [
    {
     "name": "stdout",
     "output_type": "stream",
     "text": [
      "Hello\n",
      "How are you?\n"
     ]
    }
   ],
   "source": [
    "greeting()"
   ]
  },
  {
   "cell_type": "code",
   "execution_count": 12,
   "metadata": {},
   "outputs": [],
   "source": [
    "def greeting(name):\n",
    "    print('Hello', name)\n",
    "    print('How are you')"
   ]
  },
  {
   "cell_type": "code",
   "execution_count": 14,
   "metadata": {},
   "outputs": [
    {
     "name": "stdout",
     "output_type": "stream",
     "text": [
      "Hello Louis\n",
      "How are you\n"
     ]
    }
   ],
   "source": [
    "greeting('Louis')"
   ]
  },
  {
   "cell_type": "code",
   "execution_count": 18,
   "metadata": {},
   "outputs": [
    {
     "name": "stdout",
     "output_type": "stream",
     "text": [
      "The answer is: words\n"
     ]
    }
   ],
   "source": [
    "#Knowledge quiz: What is the variable/parameter in Input 76 above, and which data type category can it be classified to?\n",
    "print('The answer is: words')"
   ]
  },
  {
   "cell_type": "code",
   "execution_count": 19,
   "metadata": {},
   "outputs": [
    {
     "name": "stdout",
     "output_type": "stream",
     "text": [
      "Superman\n"
     ]
    }
   ],
   "source": [
    "# The following is a string addition which is equivalent to joining/concatenating words\n",
    "print('Super' + 'man')"
   ]
  },
  {
   "cell_type": "code",
   "execution_count": 20,
   "metadata": {},
   "outputs": [
    {
     "name": "stdout",
     "output_type": "stream",
     "text": [
      " Mayday Mayday Mayday\n"
     ]
    }
   ],
   "source": [
    "# The following is a string multiplication, which results in printing the quoted string 3 times\n",
    "print(' Mayday'*3)"
   ]
  },
  {
   "cell_type": "code",
   "execution_count": 21,
   "metadata": {},
   "outputs": [
    {
     "data": {
      "text/plain": [
       "[0, 1, 2, 3, 4]"
      ]
     },
     "execution_count": 21,
     "metadata": {},
     "output_type": "execute_result"
    }
   ],
   "source": [
    "list (range(5))"
   ]
  },
  {
   "cell_type": "code",
   "execution_count": 22,
   "metadata": {},
   "outputs": [
    {
     "name": "stdout",
     "output_type": "stream",
     "text": [
      "5\n",
      "6\n",
      "7\n",
      "8\n",
      "9\n"
     ]
    }
   ],
   "source": [
    "for number in range(5,10):\n",
    "    print(number)"
   ]
  },
  {
   "cell_type": "code",
   "execution_count": 23,
   "metadata": {},
   "outputs": [
    {
     "name": "stdout",
     "output_type": "stream",
     "text": [
      "0\n",
      "4\n",
      "8\n",
      "12\n",
      "16\n"
     ]
    }
   ],
   "source": [
    "for i in range(5):\n",
    "    print(4*i)"
   ]
  },
  {
   "cell_type": "code",
   "execution_count": 35,
   "metadata": {},
   "outputs": [
    {
     "name": "stdout",
     "output_type": "stream",
     "text": [
      "14\n",
      "122\n",
      "how to complete this assignment, Louis\n",
      "2\n",
      "0\n",
      "2\n",
      "0\n",
      "10\n",
      "8\n",
      "2\n",
      "0\n",
      "18\n",
      "16\n"
     ]
    }
   ],
   "source": [
    "# 1- Evaluate the following statements and explain using comments why these similar statements result in \n",
    "#    different outputs/answers:\n",
    "print (12 + 2)\n",
    "print ('12' + '2')\n",
    "#    Answer: the reason why the results are different is that the first input is about the numerics and \n",
    "#            it can be calculated by elementary mathematics, and the second input is about the string data\n",
    "#            and can't be add or minus here, only joining together.  \n",
    "\n",
    "\n",
    "# 2- Define two functions which require user input, one using numeric variables and the other using string variables,\n",
    "#    try to be creative.\n",
    "def multiple(a, b): return(a*b)\n",
    "multiple(10, 2)\n",
    "\n",
    "def joint (student): \n",
    "    print('how to complete this assignment,',student)\n",
    "\n",
    "joint('Louis')\n",
    "    \n",
    "    \n",
    "# 3- Write a computational statement which uses the \"range\" function and the \"for\" loop.\n",
    "for i in range(10):\n",
    "    print(i^i + i^2 + i)\n",
    "\n"
   ]
  }
 ],
 "metadata": {
  "kernelspec": {
   "display_name": "Python 3",
   "language": "python",
   "name": "python3"
  },
  "language_info": {
   "codemirror_mode": {
    "name": "ipython",
    "version": 3
   },
   "file_extension": ".py",
   "mimetype": "text/x-python",
   "name": "python",
   "nbconvert_exporter": "python",
   "pygments_lexer": "ipython3",
   "version": "3.7.0"
  }
 },
 "nbformat": 4,
 "nbformat_minor": 2
}
